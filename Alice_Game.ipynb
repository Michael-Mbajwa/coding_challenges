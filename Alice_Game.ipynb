{
  "cells": [
    {
      "cell_type": "markdown",
      "metadata": {
        "id": "T6pF_DFJQz1m"
      },
      "source": []
    },
    {
      "cell_type": "markdown",
      "metadata": {
        "id": "q5yS6BJYQ1Z8"
      },
      "source": [
        "This problem was asked by Two Sigma.\n",
        "\n",
        "Alice wants to join her school's Probability Student Club. Membership dues are computed via one of two simple probabilistic games.\n",
        "\n",
        "The first game: roll a die repeatedly. Stop rolling once you get a five followed by a six. Your number of rolls is the amount you pay, in dollars.\n",
        "\n",
        "The second game: same, except that the stopping condition is a five followed by a five.\n",
        "\n",
        "Which of the two games should Alice elect to play? Does it even matter? Write a program to simulate the two games and calculate their expected value."
      ]
    },
    {
      "cell_type": "code",
      "execution_count": 1,
      "metadata": {
        "id": "DbhNupSQbF6Z"
      },
      "outputs": [],
      "source": [
        "import numpy as np\n",
        "from names_dataset import NameDataset\n",
        "import pandas as pd"
      ]
    },
    {
      "cell_type": "code",
      "execution_count": 2,
      "metadata": {
        "id": "hecQzY8WbaZM"
      },
      "outputs": [],
      "source": [
        "nd = NameDataset()\n",
        "nigerian_names = nd.get_top_names(n=100, country_alpha2='NG')\n",
        "females = nigerian_names['NG']['F']\n",
        "males = nigerian_names['NG']['M']\n",
        "names = males + females"
      ]
    },
    {
      "cell_type": "code",
      "execution_count": 3,
      "metadata": {
        "id": "YWKnAXCeQ6l_"
      },
      "outputs": [],
      "source": [
        "def first_game():\n",
        "  \"\"\"\n",
        "  The first game: roll a die repeatedly. Stop rolling once you get a five followed by a six. \n",
        "  Your number of rolls is the amount you pay, in dollars.\n",
        "  \"\"\"\n",
        "  rng = np.random.default_rng()\n",
        "\n",
        "  prev = rng.integers(1, 1000, 1)\n",
        "  current = rng.integers(1, 1000, 1)\n",
        "  \n",
        "  count = 1\n",
        "\n",
        "  while prev != 5 or current != 6:\n",
        "    count += 1\n",
        "    prev = current\n",
        "    current = rng.integers(1, 7, 1)\n",
        "  \n",
        "  return count\n"
      ]
    },
    {
      "cell_type": "code",
      "execution_count": 4,
      "metadata": {
        "colab": {
          "base_uri": "https://localhost:8080/"
        },
        "id": "ne3320WXVn8l",
        "outputId": "28772576-2f99-4ea5-a395-00d0dbd7a625"
      },
      "outputs": [
        {
          "name": "stdout",
          "output_type": "stream",
          "text": [
            "Your membership dues are:  21 dollars.\n"
          ]
        }
      ],
      "source": [
        "amount = first_game()\n",
        "print(\"Your membership dues are: \", amount, \"dollars.\")"
      ]
    },
    {
      "cell_type": "code",
      "execution_count": 6,
      "metadata": {
        "id": "5zqMU6zMaW1m"
      },
      "outputs": [],
      "source": [
        "# We can play the game for some groupe of people\n",
        "scores = [None] * len(names)\n",
        "for i in range(len(scores)):\n",
        "  amount = first_game()\n",
        "  scores[i] = amount"
      ]
    },
    {
      "cell_type": "code",
      "execution_count": 9,
      "metadata": {
        "id": "BR4otyEJeB2d"
      },
      "outputs": [
        {
          "data": {
            "text/html": [
              "<div>\n",
              "<style scoped>\n",
              "    .dataframe tbody tr th:only-of-type {\n",
              "        vertical-align: middle;\n",
              "    }\n",
              "\n",
              "    .dataframe tbody tr th {\n",
              "        vertical-align: top;\n",
              "    }\n",
              "\n",
              "    .dataframe thead th {\n",
              "        text-align: right;\n",
              "    }\n",
              "</style>\n",
              "<table border=\"1\" class=\"dataframe\">\n",
              "  <thead>\n",
              "    <tr style=\"text-align: right;\">\n",
              "      <th></th>\n",
              "      <th>Name</th>\n",
              "      <th>Dues</th>\n",
              "    </tr>\n",
              "  </thead>\n",
              "  <tbody>\n",
              "    <tr>\n",
              "      <th>0</th>\n",
              "      <td>Ibrahim</td>\n",
              "      <td>10</td>\n",
              "    </tr>\n",
              "    <tr>\n",
              "      <th>1</th>\n",
              "      <td>Emmanuel</td>\n",
              "      <td>42</td>\n",
              "    </tr>\n",
              "    <tr>\n",
              "      <th>2</th>\n",
              "      <td>Abubakar</td>\n",
              "      <td>9</td>\n",
              "    </tr>\n",
              "    <tr>\n",
              "      <th>3</th>\n",
              "      <td>Muhammad</td>\n",
              "      <td>45</td>\n",
              "    </tr>\n",
              "    <tr>\n",
              "      <th>4</th>\n",
              "      <td>John</td>\n",
              "      <td>98</td>\n",
              "    </tr>\n",
              "    <tr>\n",
              "      <th>...</th>\n",
              "      <td>...</td>\n",
              "      <td>...</td>\n",
              "    </tr>\n",
              "    <tr>\n",
              "      <th>195</th>\n",
              "      <td>Chiamaka</td>\n",
              "      <td>72</td>\n",
              "    </tr>\n",
              "    <tr>\n",
              "      <th>196</th>\n",
              "      <td>Chisom</td>\n",
              "      <td>18</td>\n",
              "    </tr>\n",
              "    <tr>\n",
              "      <th>197</th>\n",
              "      <td>Maureen</td>\n",
              "      <td>8</td>\n",
              "    </tr>\n",
              "    <tr>\n",
              "      <th>198</th>\n",
              "      <td>Oluwatosin</td>\n",
              "      <td>13</td>\n",
              "    </tr>\n",
              "    <tr>\n",
              "      <th>199</th>\n",
              "      <td>Onyinye</td>\n",
              "      <td>44</td>\n",
              "    </tr>\n",
              "  </tbody>\n",
              "</table>\n",
              "<p>200 rows × 2 columns</p>\n",
              "</div>"
            ],
            "text/plain": [
              "           Name  Dues\n",
              "0       Ibrahim    10\n",
              "1      Emmanuel    42\n",
              "2      Abubakar     9\n",
              "3      Muhammad    45\n",
              "4          John    98\n",
              "..          ...   ...\n",
              "195    Chiamaka    72\n",
              "196      Chisom    18\n",
              "197     Maureen     8\n",
              "198  Oluwatosin    13\n",
              "199     Onyinye    44\n",
              "\n",
              "[200 rows x 2 columns]"
            ]
          },
          "execution_count": 9,
          "metadata": {},
          "output_type": "execute_result"
        }
      ],
      "source": [
        "membership_dues = pd.DataFrame(zip(names, scores), columns=[\"Name\", \"Dues\"])\n",
        "membership_dues"
      ]
    },
    {
      "cell_type": "code",
      "execution_count": 10,
      "metadata": {
        "id": "eXw6l6Y5X1Ez"
      },
      "outputs": [],
      "source": [
        "def second_game():\n",
        "  \"\"\"\n",
        "  The first game: roll a die repeatedly. Stop rolling once you get a five followed by a five. \n",
        "  Your number of rolls is the amount you pay, in dollars.\n",
        "  \"\"\"\n",
        "  rng = np.random.default_rng()\n",
        "\n",
        "  prev = rng.integers(1, 7, 1)\n",
        "  current = rng.integers(1, 7, 1)\n",
        "  \n",
        "  count = 1\n",
        "\n",
        "  while prev != 5 or current != 5:\n",
        "    count += 1\n",
        "    prev = current\n",
        "    current = rng.integers(1, 7, 1)\n",
        "  \n",
        "  return count, prev, current\n"
      ]
    },
    {
      "cell_type": "code",
      "execution_count": 12,
      "metadata": {
        "colab": {
          "base_uri": "https://localhost:8080/"
        },
        "id": "KiHirHQzX5C6",
        "outputId": "9317f358-c2e3-4451-895c-c910a922f7b3"
      },
      "outputs": [
        {
          "name": "stdout",
          "output_type": "stream",
          "text": [
            "Your membership dues are:  63 dollars.\n",
            "[5]\n",
            "[5]\n"
          ]
        }
      ],
      "source": [
        "amount, prev, curr = second_game()\n",
        "print(\"Your membership dues are: \", amount, \"dollars.\")\n",
        "print(prev)\n",
        "print(curr)"
      ]
    }
  ],
  "metadata": {
    "colab": {
      "name": "Alice_Game.ipynb",
      "provenance": []
    },
    "kernelspec": {
      "display_name": "Python 3",
      "name": "python3"
    },
    "language_info": {
      "codemirror_mode": {
        "name": "ipython",
        "version": 3
      },
      "file_extension": ".py",
      "mimetype": "text/x-python",
      "name": "python",
      "nbconvert_exporter": "python",
      "pygments_lexer": "ipython3",
      "version": "3.9.10"
    }
  },
  "nbformat": 4,
  "nbformat_minor": 0
}
